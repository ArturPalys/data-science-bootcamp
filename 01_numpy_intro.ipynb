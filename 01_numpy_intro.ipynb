{
  "nbformat": 4,
  "nbformat_minor": 0,
  "metadata": {
    "colab": {
      "provenance": [],
      "toc_visible": true,
      "authorship_tag": "ABX9TyMPE6fcn4lpBbCgp8VcDu3y",
      "include_colab_link": true
    },
    "kernelspec": {
      "name": "python3",
      "display_name": "Python 3"
    },
    "language_info": {
      "name": "python"
    }
  },
  "cells": [
    {
      "cell_type": "markdown",
      "metadata": {
        "id": "view-in-github",
        "colab_type": "text"
      },
      "source": [
        "<a href=\"https://colab.research.google.com/github/ArturPalys/data-science-bootcamp/blob/main/01_numpy_intro.ipynb\" target=\"_parent\"><img src=\"https://colab.research.google.com/assets/colab-badge.svg\" alt=\"Open In Colab\"/></a>"
      ]
    },
    {
      "cell_type": "markdown",
      "source": [
        "\n",
        "\n",
        "*   @author: artur.palys@gmail.com\n",
        "*   @site:\n",
        "\n"
      ],
      "metadata": {
        "id": "nkihUYpr_yN9"
      }
    },
    {
      "cell_type": "markdown",
      "source": [
        "### NumPy\n",
        ">Strona biblioteki: [https://numpy.org/](https://numpy.org/)\n",
        "\n",
        ">Dokumentacja: [https://numpy.org/doc/](https://numpy.org/doc/)\n",
        "\n",
        ">Podstawowa biblioteka do obliczeń numerycznych w języku Python\n",
        "\n",
        "```\n",
        "pip install numpy\n",
        "```\n",
        "\n",
        "### Spis treści:\n",
        "\n",
        "\n",
        "1.   [Podstawy](#s1)\n",
        "\n",
        "\n"
      ],
      "metadata": {
        "id": "RFLCE54zACYc"
      }
    },
    {
      "cell_type": "markdown",
      "source": [
        "### <a name='s1'></a> Podstawy"
      ],
      "metadata": {
        "id": "Z2WpCU_eBXoT"
      }
    },
    {
      "cell_type": "code",
      "execution_count": null,
      "metadata": {
        "id": "RiFllcr3-6Ne"
      },
      "outputs": [],
      "source": []
    }
  ]
}