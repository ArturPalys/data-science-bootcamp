{
  "nbformat": 4,
  "nbformat_minor": 0,
  "metadata": {
    "colab": {
      "provenance": [],
      "toc_visible": true,
      "authorship_tag": "ABX9TyMvs3h19qmTSsFlXZqCkJld",
      "include_colab_link": true
    },
    "kernelspec": {
      "name": "python3",
      "display_name": "Python 3"
    },
    "language_info": {
      "name": "python"
    }
  },
  "cells": [
    {
      "cell_type": "markdown",
      "metadata": {
        "id": "view-in-github",
        "colab_type": "text"
      },
      "source": [
        "<a href=\"https://colab.research.google.com/github/ArturPalys/data-science-bootcamp/blob/main/01_numpy_intro.ipynb\" target=\"_parent\"><img src=\"https://colab.research.google.com/assets/colab-badge.svg\" alt=\"Open In Colab\"/></a>"
      ]
    },
    {
      "cell_type": "markdown",
      "source": [
        "\n",
        "\n",
        "*   @author: artur.palys@gmail.com\n",
        "*   @site:\n",
        "\n"
      ],
      "metadata": {
        "id": "nkihUYpr_yN9"
      }
    },
    {
      "cell_type": "markdown",
      "source": [
        "### NumPy\n",
        ">Strona biblioteki: [https://numpy.org/](https://numpy.org/)\n",
        "\n",
        ">Dokumentacja: [https://numpy.org/doc/](https://numpy.org/doc/)\n",
        "\n",
        ">Podstawowa biblioteka do obliczeń numerycznych w języku Python\n",
        "\n",
        "```\n",
        "pip install numpy\n",
        "```\n",
        "\n",
        "### Spis treści:\n",
        "\n",
        "\n",
        "1.   [Podstawy](#s1)\n",
        "\n",
        "\n"
      ],
      "metadata": {
        "id": "RFLCE54zACYc"
      }
    },
    {
      "cell_type": "markdown",
      "source": [
        "### <a name='s1'></a> Podstawy"
      ],
      "metadata": {
        "id": "Z2WpCU_eBXoT"
      }
    },
    {
      "cell_type": "code",
      "source": [
        "import numpy as np\n",
        "np.__version__"
      ],
      "metadata": {
        "colab": {
          "base_uri": "https://localhost:8080/",
          "height": 35
        },
        "id": "nf7MJGL4HJu7",
        "outputId": "38ba3d49-09b1-415a-8170-7a3f4f3d42c9"
      },
      "execution_count": 1,
      "outputs": [
        {
          "output_type": "execute_result",
          "data": {
            "text/plain": [
              "'1.25.2'"
            ],
            "application/vnd.google.colaboratory.intrinsic+json": {
              "type": "string"
            }
          },
          "metadata": {},
          "execution_count": 1
        }
      ]
    },
    {
      "cell_type": "code",
      "source": [
        "print(dir(np))"
      ],
      "metadata": {
        "id": "8Ls6xFjZHqUy"
      },
      "execution_count": null,
      "outputs": []
    },
    {
      "cell_type": "code",
      "source": [],
      "metadata": {
        "id": "kAUroETmKFER"
      },
      "execution_count": null,
      "outputs": []
    }
  ]
}